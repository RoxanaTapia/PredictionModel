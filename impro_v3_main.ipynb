{
 "cells": [
  {
   "cell_type": "code",
   "execution_count": 1,
   "metadata": {},
   "outputs": [],
   "source": [
    "from IPython.core.interactiveshell import InteractiveShell\n",
    "InteractiveShell.ast_node_interactivity = \"all\""
   ]
  },
  {
   "cell_type": "code",
   "execution_count": 1,
   "metadata": {},
   "outputs": [],
   "source": [
    "import numpy as np\n",
    "import matplotlib.pyplot as plt\n",
    "%matplotlib inline\n",
    "from sklearn.linear_model import LinearRegression\n",
    "from sklearn.metrics import accuracy_score\n",
    "from sklearn.externals import joblib\n",
    "import pandas as pd  "
   ]
  },
  {
   "cell_type": "code",
   "execution_count": 2,
   "metadata": {},
   "outputs": [],
   "source": [
    "# Data loading...\n",
    "#C1 (records not containing acute hypotensive episodes)\n",
    "#C2 (AHE, but not in forecast window)\n",
    "#H1 (acute hypotensive episode in forecast window, treated with pressors)\n",
    "#H2 (AHE in forecast window, not treated with pressors)\n",
    "c1 = np.loadtxt('c1_matrix.txt') #14x600\n",
    "c2 = np.loadtxt('c2_matrix.txt') #14x600\n",
    "h1 = np.loadtxt('h1_matrix.txt') #14x600\n",
    "h2 = np.loadtxt('h2_matrix.txt') #15x600\n",
    "c1_afterT0=np.loadtxt('c1_matrix_afterT0.txt') #14x60\n",
    "c2_afterT0=np.loadtxt('c2_matrix_afterT0.txt') #14x60\n",
    "h1_afterT0=np.loadtxt('h1_matrix_afterT0.txt') #14x60\n",
    "h2_afterT0=np.loadtxt('h2_matrix_afterT0.txt') #15x60\n",
    "labels=np.loadtxt('labels.txt')"
   ]
  },
  {
   "cell_type": "code",
   "execution_count": 32,
   "metadata": {},
   "outputs": [
    {
     "name": "stdout",
     "output_type": "stream",
     "text": [
      "(9, 600) (40, 600)\n"
     ]
    }
   ],
   "source": [
    "testA=np.loadtxt('test_a.txt')\n",
    "testB=np.loadtxt('test_b.txt')\n",
    "print(testA.shape,testB.shape) "
   ]
  },
  {
   "cell_type": "code",
   "execution_count": 213,
   "metadata": {},
   "outputs": [
    {
     "name": "stdout",
     "output_type": "stream",
     "text": [
      "40\n"
     ]
    }
   ],
   "source": [
    "#solve the problem with nan in testB\n",
    "idx_nan=np.isnan(testB)\n",
    "print(len(idx_nan))\n",
    "testB[idx_nan]=0"
   ]
  },
  {
   "cell_type": "markdown",
   "metadata": {},
   "source": [
    "# Way 1\n",
    "## Feature Extraction in Training dataset-- Linear Regression"
   ]
  },
  {
   "cell_type": "code",
   "execution_count": 33,
   "metadata": {
    "scrolled": true
   },
   "outputs": [
    {
     "name": "stdout",
     "output_type": "stream",
     "text": [
      "mean of ABPmean above the line\n",
      "mean below the line\n",
      "size+\n",
      "size-\n",
      "\n",
      "This is C1\n",
      "Patient 1 in  C1 : 97.18 85.80 282 318\n",
      "Patient 2 in  C1 : 90.99 85.00 307 292\n",
      "Patient 3 in  C1 : 112.81 90.68 290 266\n",
      "Patient 4 in  C1 : 111.21 104.33 355 242\n",
      "Patient 5 in  C1 : 105.50 94.76 274 318\n",
      "Patient 6 in  C1 : 101.90 98.96 267 331\n",
      "Patient 7 in  C1 : 109.74 90.02 313 287\n",
      "Patient 8 in  C1 : 109.63 102.79 248 315\n",
      "Patient 9 in  C1 : 92.36 77.30 321 279\n",
      "Patient 10 in  C1 : 101.29 81.69 310 289\n",
      "Patient 11 in  C1 : 84.00 75.87 299 301\n",
      "Patient 12 in  C1 : 103.56 94.93 281 319\n",
      "Patient 13 in  C1 : 82.05 75.45 242 357\n",
      "Patient 14 in  C1 : 82.92 75.27 259 341\n",
      "This is C2\n",
      "Patient 1 in  C2 : 78.56 70.49 296 304\n",
      "Patient 2 in  C2 : 92.29 84.19 307 292\n",
      "Patient 3 in  C2 : 87.49 77.11 255 337\n",
      "Patient 4 in  C2 : 75.39 62.84 270 323\n",
      "Patient 5 in  C2 : 97.46 81.67 331 268\n",
      "Patient 6 in  C2 : 89.66 76.51 314 285\n",
      "Patient 7 in  C2 : 90.78 74.59 321 279\n",
      "Patient 8 in  C2 : 119.54 95.32 194 158\n",
      "Patient 9 in  C2 : 71.75 66.34 251 349\n",
      "Patient 10 in  C2 : 80.31 67.58 310 288\n",
      "Patient 11 in  C2 : 79.54 69.30 306 289\n",
      "Patient 12 in  C2 : 71.56 63.08 268 332\n",
      "Patient 13 in  C2 : 82.79 72.40 265 335\n",
      "Patient 14 in  C2 : 79.15 70.38 264 334\n",
      "This is H1\n",
      "Patient 1 in  H1 : 100.17 85.10 262 165\n",
      "Patient 2 in  H1 : 119.83 102.14 162 156\n",
      "Patient 3 in  H1 : 96.45 66.21 222 368\n",
      "Patient 4 in  H1 : 68.91 63.28 277 323\n",
      "Patient 5 in  H1 : 97.21 67.95 322 276\n",
      "Patient 6 in  H1 : 92.53 84.20 306 292\n",
      "Patient 7 in  H1 : 87.72 75.27 291 307\n",
      "Patient 8 in  H1 : 70.49 63.73 299 296\n",
      "Patient 9 in  H1 : 72.96 67.51 270 329\n",
      "Patient 10 in  H1 : 72.51 60.92 246 354\n",
      "Patient 11 in  H1 : 92.43 69.96 275 324\n",
      "Patient 12 in  H1 : 117.86 107.02 269 290\n",
      "Patient 13 in  H1 : 90.07 86.16 305 291\n",
      "Patient 14 in  H1 : 93.43 75.96 279 305\n",
      "This is H2\n",
      "Patient 1 in  H2 : 77.98 70.43 248 349\n",
      "Patient 2 in  H2 : 72.04 63.90 292 307\n",
      "Patient 3 in  H2 : 68.07 62.11 298 300\n",
      "Patient 4 in  H2 : 73.40 61.98 228 368\n",
      "Patient 5 in  H2 : 70.82 63.47 236 364\n",
      "Patient 6 in  H2 : 80.47 71.39 302 297\n",
      "Patient 7 in  H2 : 87.61 70.00 286 310\n",
      "Patient 8 in  H2 : 74.67 64.91 282 313\n",
      "Patient 9 in  H2 : 125.79 115.42 194 207\n",
      "Patient 10 in  H2 : 122.43 109.64 206 263\n",
      "Patient 11 in  H2 : 76.86 62.15 316 282\n",
      "Patient 12 in  H2 : 73.16 67.34 271 329\n",
      "Patient 13 in  H2 : 77.22 65.37 249 351\n",
      "Patient 14 in  H2 : 84.31 73.74 217 381\n",
      "Patient 15 in  H2 : 96.82 74.26 301 292\n"
     ]
    }
   ],
   "source": [
    "#used to store the features\n",
    "list_feature=[]\n",
    "#store the predictions after T0 \n",
    "#used for Linear Regression-->predict to count the ABPmean value\n",
    "pred_afterT0=[]\n",
    "\n",
    "Dict={'C1':c1,'C2':c2,'H1':h1,'H2':h2}\n",
    "print('mean of ABPmean above the line\\nmean below the line\\nsize+\\nsize-\\n')\n",
    "for k,v in Dict.items():\n",
    "    print('This is',k)\n",
    "    for i in range(len(v)):\n",
    "        y=v[i]\n",
    "        cond=np.where(((y>130)|(y<10)),-1,y)\n",
    "        y=np.delete(cond,np.argwhere(cond==-1))\n",
    "\n",
    "        x=np.arange(len(y))\n",
    "        model = LinearRegression()\n",
    "\n",
    "        model.fit(np.reshape(x,[len(x),1]), np.reshape(y,[len(y),1]))\n",
    "        x_test=x_test=np.arange(len(x),len(x)+60)\n",
    "        y_pred = model.predict(np.reshape(x_test,[len(x_test),1]))\n",
    "\n",
    "        w = model.coef_[0][0] # parameters of model\n",
    "        b = model.intercept_[0] #intercept of model\n",
    "\n",
    "        g1=np.where(y>w*x+b,y,-1).flatten()\n",
    "        g11=np.delete(g1,np.argwhere(g1==-1))\n",
    "        g11_mean=np.mean(g11)\n",
    "\n",
    "        g2=np.where(y<w*x+b,y,-1).flatten()\n",
    "        g21=np.delete(g2,np.argwhere(g2==-1))\n",
    "        g21_mean=np.mean(g21)\n",
    "#         list_feature.append([g11_mean,g21_mean,len(g11),len(g21)])\n",
    "        list_feature.append([g11_mean,g21_mean,len(g11)])\n",
    "        pred_afterT0.append(y_pred.flatten())\n",
    "        print('Patient',i+1, 'in ',k,':','%0.2f'%g11_mean,'%0.2f'%g21_mean,len(g11),len(g21))\n",
    "        \n",
    "#convert into the type of numpy.arry\n",
    "list_feature=np.array(list_feature)\n",
    "pred_afterT0=np.array(pred_afterT0)"
   ]
  },
  {
   "cell_type": "markdown",
   "metadata": {},
   "source": [
    "## Feature Extraction in Test dataset-- Linear Regression"
   ]
  },
  {
   "cell_type": "code",
   "execution_count": 41,
   "metadata": {
    "scrolled": true
   },
   "outputs": [
    {
     "name": "stdout",
     "output_type": "stream",
     "text": [
      "mean of ABPmean above the line\n",
      "mean below the line\n",
      "size+\n",
      "size-\n",
      "\n",
      "This is testA\n",
      "Patient 1 in  testA : 72.30 63.84 252 348\n",
      "Patient 2 in  testA : 75.45 67.33 315 285\n",
      "Patient 3 in  testA : 71.69 62.34 236 363\n",
      "Patient 4 in  testA : 85.31 69.38 233 366\n",
      "Patient 5 in  testA : 105.40 91.34 274 317\n",
      "Patient 6 in  testA : 95.79 80.37 240 360\n",
      "Patient 7 in  testA : 75.59 69.88 296 304\n",
      "Patient 8 in  testA : 72.96 66.89 241 359\n",
      "Patient 9 in  testA : 62.74 58.04 280 317\n",
      "This is testB\n",
      "Patient 1 in  testB : 92.05 85.54 270 330\n",
      "Patient 2 in  testB : 71.17 62.66 210 388\n",
      "Patient 3 in  testB : 66.43 61.59 269 331\n",
      "Patient 4 in  testB : 92.51 84.22 315 285\n",
      "Patient 5 in  testB : 81.66 71.52 244 356\n",
      "Patient 6 in  testB : 76.81 69.35 271 329\n",
      "Patient 7 in  testB : 90.48 77.77 242 356\n",
      "Patient 8 in  testB : 112.54 104.82 296 303\n",
      "Patient 9 in  testB : 84.93 69.90 265 335\n",
      "Patient 10 in  testB : 84.36 77.15 307 285\n",
      "Patient 11 in  testB : 100.84 94.00 289 309\n",
      "Patient 12 in  testB : 88.64 73.52 210 383\n",
      "Patient 13 in  testB : 111.97 91.63 252 243\n",
      "Patient 14 in  testB : 76.63 64.86 336 264\n",
      "Patient 15 in  testB : 77.73 73.08 250 350\n",
      "Patient 16 in  testB : 88.43 66.14 220 369\n",
      "Patient 17 in  testB : 79.71 72.97 313 285\n",
      "Patient 18 in  testB : 80.24 70.14 296 303\n",
      "Patient 19 in  testB : 82.31 65.02 296 299\n",
      "Patient 20 in  testB : 98.08 86.20 278 282\n",
      "Patient 21 in  testB : 88.64 75.48 257 329\n",
      "Patient 22 in  testB : 79.91 70.82 226 372\n",
      "Patient 23 in  testB : 69.51 63.12 206 389\n",
      "Patient 24 in  testB : 76.91 73.40 269 331\n",
      "Patient 25 in  testB : 84.72 69.40 313 286\n",
      "Patient 26 in  testB : 80.13 66.23 244 355\n",
      "Patient 27 in  testB : 75.43 64.57 228 367\n",
      "Patient 28 in  testB : 113.29 101.66 249 337\n",
      "Patient 29 in  testB : 87.19 76.81 286 314\n",
      "Patient 30 in  testB : 82.57 68.14 301 299\n",
      "Patient 31 in  testB : 71.23 65.57 264 335\n",
      "Patient 32 in  testB : 117.51 97.10 321 236\n",
      "Patient 33 in  testB : 87.42 77.93 279 316\n",
      "Patient 34 in  testB : 79.79 64.77 237 362\n",
      "Patient 35 in  testB : 77.40 71.49 301 299\n",
      "Patient 36 in  testB : 84.47 78.65 246 352\n",
      "Patient 37 in  testB : 108.37 88.71 213 354\n",
      "Patient 38 in  testB : 85.47 63.45 218 379\n",
      "Patient 39 in  testB : 76.05 63.72 236 364\n",
      "Patient 40 in  testB : 116.59 104.73 290 301\n"
     ]
    }
   ],
   "source": [
    "#used to store the features\n",
    "testset_feature=[]\n",
    "#store the predictions(60points) after T0 \n",
    "#used for Linear Regression-->predict to count the ABPmean value\n",
    "testset_pred_afterT0=[]\n",
    "\n",
    "Dict={'testA':testA,'testB':testB}\n",
    "print('mean of ABPmean above the line\\nmean below the line\\nsize+\\nsize-\\n')\n",
    "for k,v in Dict.items():\n",
    "    print('This is',k)\n",
    "    for i in range(len(v)):\n",
    "        y=v[i]\n",
    "        cond=np.where(((y>130)|(y<10)),-1,y)\n",
    "        y=np.delete(cond,np.argwhere(cond==-1))\n",
    "\n",
    "        x=np.arange(len(y))\n",
    "        model = LinearRegression()\n",
    "\n",
    "        model.fit(np.reshape(x,[len(x),1]), np.reshape(y,[len(y),1]))\n",
    "        x_test=x_test=np.arange(len(x),len(x)+60)\n",
    "        y_pred = model.predict(np.reshape(x_test,[len(x_test),1]))\n",
    "\n",
    "        w = model.coef_[0][0] # parameters of model\n",
    "        b = model.intercept_[0] #intercept of model\n",
    "\n",
    "        g1=np.where(y>w*x+b,y,-1).flatten()\n",
    "        g11=np.delete(g1,np.argwhere(g1==-1))\n",
    "        g11_mean=np.mean(g11)\n",
    "\n",
    "        g2=np.where(y<w*x+b,y,-1).flatten()\n",
    "        g21=np.delete(g2,np.argwhere(g2==-1))\n",
    "        g21_mean=np.mean(g21)\n",
    "        testset_feature.append([g11_mean,g21_mean,len(g11)])\n",
    "        testset_pred_afterT0.append(y_pred.flatten())\n",
    "        print('Patient',i+1, 'in ',k,':','%0.2f'%g11_mean,'%0.2f'%g21_mean,len(g11),len(g21))\n",
    "        \n",
    "#convert into the type of numpy.arry\n",
    "testset_feature=np.array(testset_feature)\n",
    "testset_pred_afterT0=np.array(testset_pred_afterT0)\n",
    "\n",
    "testA_feature=testset_feature[:len(testA)]\n",
    "testB_feature=testset_feature[len(testA):]\n",
    "testA_pred_afterT0=testset_pred_afterT0[:len(testA)]\n",
    "testB_pred_afterT0=testset_pred_afterT0[len(testA):]"
   ]
  },
  {
   "cell_type": "markdown",
   "metadata": {},
   "source": [
    "## Classification --Random Forest in Way 1"
   ]
  },
  {
   "cell_type": "code",
   "execution_count": 7,
   "metadata": {},
   "outputs": [],
   "source": [
    "from sklearn.ensemble import RandomForestClassifier  \n",
    "from sklearn.model_selection import GridSearchCV\n",
    "from sklearn import metrics  \n",
    "from sklearn.ensemble import RandomForestClassifier \n",
    "from sklearn.metrics import accuracy_score"
   ]
  },
  {
   "cell_type": "code",
   "execution_count": 48,
   "metadata": {},
   "outputs": [
    {
     "name": "stdout",
     "output_type": "stream",
     "text": [
      "[55 12 31 25 26  7 46 29 32 17]\n",
      "(47, 3) (10, 3)\n",
      "(47,) (10,)\n"
     ]
    }
   ],
   "source": [
    "'''\n",
    "split the data into train and test parts for training in CrossValidation\n",
    "'''\n",
    "testsize=10\n",
    "# testIdx=np.random.choice(len(list_feature), testsize,replace=False)\n",
    "idx=np.random.permutation(len(list_feature))\n",
    "trainIdx=idx[testsize:]\n",
    "testIdx=idx[:testsize]\n",
    "\n",
    "print(testIdx)\n",
    "x_train=list_feature[trainIdx]\n",
    "x_test=list_feature[testIdx]\n",
    "print(x_train.shape,x_test.shape)\n",
    "y_train=labels[trainIdx]\n",
    "y_test=labels[testIdx]\n",
    "print(y_train.shape,y_test.shape)"
   ]
  },
  {
   "cell_type": "code",
   "execution_count": 94,
   "metadata": {},
   "outputs": [
    {
     "name": "stdout",
     "output_type": "stream",
     "text": [
      "[1. 0. 1. 1. 0. 0. 1. 1. 0. 1.]\n",
      "[1. 0. 1. 0. 0. 0. 1. 1. 1. 0.]\n",
      "the accuracy is: 0.7\n",
      "CPU times: user 71.1 ms, sys: 3.07 ms, total: 74.2 ms\n",
      "Wall time: 73.4 ms\n"
     ]
    }
   ],
   "source": [
    "%%time\n",
    "rf_test = RandomForestClassifier(n_estimators= 50,max_depth=4,random_state=10,criterion='gini')\n",
    "rf_test.fit(x_train,y_train)\n",
    "y_pred=rf_test.predict(x_test)\n",
    "print (y_pred)\n",
    "print(y_test)\n",
    "print('the accuracy is:',accuracy_score(y_test,y_pred))"
   ]
  },
  {
   "cell_type": "code",
   "execution_count": 22,
   "metadata": {},
   "outputs": [
    {
     "name": "stdout",
     "output_type": "stream",
     "text": [
      "the best params of the model:\n",
      " {'max_depth': 4, 'min_samples_leaf': 1, 'n_estimators': 50}\n",
      "Mean cross-validated score of the best_estimator : 0.7543859649122808\n",
      "CPU times: user 3min 12s, sys: 528 ms, total: 3min 13s\n",
      "Wall time: 3min 14s\n"
     ]
    }
   ],
   "source": [
    "%%time\n",
    "'''\n",
    "Tuning the parameters of RandomForest via GridSearchCV\n",
    "'''\n",
    "params= {'n_estimators':np.arange(10,100,10),'min_samples_leaf':np.arange(1,50,3),\n",
    "         'max_depth':np.arange(2,10,2)}  \n",
    "cv_rf= GridSearchCV(estimator = RandomForestClassifier(),\n",
    "                    param_grid =params, scoring='roc_auc',cv=5)  \n",
    "cv_rf.fit(list_feature,labels)  \n",
    "# y_pred=cv_rf.predict(x_test)\n",
    "print('the best params of the model:\\n',cv_rf.best_params_)\n",
    "# print('the accuracy is:',accuracy_score(y_test,y_pred))\n",
    "print('Mean cross-validated score of the best_estimator :',cv_rf.best_score_)"
   ]
  },
  {
   "cell_type": "code",
   "execution_count": 150,
   "metadata": {},
   "outputs": [
    {
     "data": {
      "text/plain": [
       "['randomforest1.m']"
      ]
     },
     "execution_count": 150,
     "metadata": {},
     "output_type": "execute_result"
    }
   ],
   "source": [
    "#save the model1\n",
    "joblib.dump(cv_rf,'randomforest1.m')"
   ]
  },
  {
   "cell_type": "code",
   "execution_count": 151,
   "metadata": {},
   "outputs": [
    {
     "name": "stdout",
     "output_type": "stream",
     "text": [
      "Way 1 with Random Forest:\n",
      "the number of AHE in testA 7.0\n",
      "the number of AHE in testB 17.0\n"
     ]
    }
   ],
   "source": [
    "#read the model\n",
    "rf=joblib.load('randomforest.m')\n",
    "resultA=rf.predict(testA_feature)\n",
    "resultB=rf.predict(testB_feature)\n",
    "print('Way 1 with Random Forest:')\n",
    "print('the number of AHE in testA',np.sum(resultA))\n",
    "print('the number of AHE in testB',np.sum(resultB))"
   ]
  },
  {
   "cell_type": "markdown",
   "metadata": {},
   "source": [
    "## Classification--Support Vector Machine in Way 1"
   ]
  },
  {
   "cell_type": "code",
   "execution_count": 119,
   "metadata": {},
   "outputs": [
    {
     "name": "stdout",
     "output_type": "stream",
     "text": [
      "the accuracy of the classification is 0.500\n"
     ]
    }
   ],
   "source": [
    "from sklearn.svm import SVC\n",
    "#use the optimal parameters to construct the SVC model\n",
    "clf_test = SVC(kernel='rbf',gamma=1e-3,C=5)\n",
    "clf_test.fit(x_train,y_train)\n",
    "\n",
    "#predict the test data\n",
    "y_pred = clf_test.predict(x_test)\n",
    "accuracy = metrics.accuracy_score(y_test, y_pred)\n",
    "print('the accuracy of the classification is %0.3f'%accuracy)"
   ]
  },
  {
   "cell_type": "code",
   "execution_count": 133,
   "metadata": {},
   "outputs": [
    {
     "name": "stdout",
     "output_type": "stream",
     "text": [
      "{'C': 11, 'gamma': 0.010005003500750375}\n",
      "Mean cross-validated score of the best_estimator : 0.7543859649122807\n",
      "CPU times: user 17min 34s, sys: 19.7 s, total: 17min 54s\n",
      "Wall time: 18min 53s\n"
     ]
    }
   ],
   "source": [
    "%%time\n",
    "'''\n",
    "Tuning the parameters of SVC via GridSearchCV\n",
    "'''\n",
    "#C is the Penalty parameter of the error term.\n",
    "params_svc= {'C':np.arange(1,50,1),'gamma':np.linspace(1e-9,20,2000)}  \n",
    "cv_clf= GridSearchCV(estimator = SVC(decision_function_shape='ovo',kernel='rbf',max_iter=-1, \n",
    "                                     probability=False, random_state=None, \n",
    "                                     shrinking=True,tol=0.001, verbose=False),\n",
    "                                     param_grid = params_svc, cv=5) \n",
    "cv_clf.fit(list_feature,labels)\n",
    "print(cv_clf.best_params_)\n",
    "print('Mean cross-validated score of the best_estimator :',cv_clf.best_score_)"
   ]
  },
  {
   "cell_type": "code",
   "execution_count": 153,
   "metadata": {},
   "outputs": [
    {
     "data": {
      "text/plain": [
       "['SVC1.m']"
      ]
     },
     "execution_count": 153,
     "metadata": {},
     "output_type": "execute_result"
    }
   ],
   "source": [
    "#save the model1\n",
    "joblib.dump(cv_clf,'SVC1.m')"
   ]
  },
  {
   "cell_type": "code",
   "execution_count": 156,
   "metadata": {},
   "outputs": [
    {
     "data": {
      "text/plain": [
       "['SVC1_1.m']"
      ]
     },
     "execution_count": 156,
     "metadata": {},
     "output_type": "execute_result"
    }
   ],
   "source": [
    "#save the model1_1\n",
    "joblib.dump(cv_clf,'SVC1_1.m')"
   ]
  },
  {
   "cell_type": "code",
   "execution_count": 155,
   "metadata": {},
   "outputs": [
    {
     "name": "stdout",
     "output_type": "stream",
     "text": [
      "Way 1 with Support Vector Machine:\n",
      "the number of AHE in testA 3.0\n",
      "the number of AHE in testB 19.0\n"
     ]
    }
   ],
   "source": [
    "cv_clf=joblib.load('SVC2.m')\n",
    "resultA=cv_clf.predict(testA_feature)\n",
    "resultB=cv_clf.predict(testB_feature)\n",
    "print('Way 1 with Support Vector Machine:')\n",
    "print('the number of AHE in testA',np.sum(resultA))\n",
    "print('the number of AHE in testB',np.sum(resultB))"
   ]
  },
  {
   "cell_type": "markdown",
   "metadata": {},
   "source": [
    "# Way 2"
   ]
  },
  {
   "cell_type": "markdown",
   "metadata": {},
   "source": [
    "## Linear Regression to fit the data after T0"
   ]
  },
  {
   "cell_type": "code",
   "execution_count": 31,
   "metadata": {},
   "outputs": [
    {
     "name": "stdout",
     "output_type": "stream",
     "text": [
      "(556,)\n"
     ]
    },
    {
     "data": {
      "image/png": "[encoded data removed]",
      "text/plain": [
       "<matplotlib.figure.Figure at 0x11cb10828>"
      ]
     },
     "metadata": {},
     "output_type": "display_data"
    }
   ],
   "source": [
    "#Example for visualization\n",
    "#the third patient in c1\n",
    "y=c1[2]\n",
    "#select the value between 10 and 130\n",
    "cond=np.where(((y>130)|(y<10)),-1,y).flatten()\n",
    "y=np.delete(cond,np.argwhere(cond==-1))\n",
    "print(y.shape)\n",
    "x=np.arange(len(y))\n",
    "\n",
    "model = LinearRegression()\n",
    "model.fit(np.reshape(x,[len(x),1]), np.reshape(y,[len(y),1]))\n",
    "# x_test=np.arange(len(x),len(x)+60)\n",
    "x_test=np.arange(len(x)+60)\n",
    "y_pred = model.predict(np.reshape(x_test,[len(x_test),1]))\n",
    "w = model.coef_[0][0] # parameters of model\n",
    "b = model.intercept_[0] #intercept of model\n",
    "\n",
    "plt.figure()\n",
    "plt.xlabel('X')\n",
    "plt.ylabel('Y')\n",
    "plt.grid(True) \n",
    "plt.plot(x,y,'b') \n",
    "plt.plot(x_test,y_pred,'g-') \n",
    "plt.show()"
   ]
  },
  {
   "cell_type": "code",
   "execution_count": 140,
   "metadata": {},
   "outputs": [
    {
     "data": {
      "text/plain": [
       "(57,)"
      ]
     },
     "execution_count": 140,
     "metadata": {},
     "output_type": "execute_result"
    }
   ],
   "source": [
    "pred_afterT0.shape\n",
    "labels.shape"
   ]
  },
  {
   "cell_type": "code",
   "execution_count": 26,
   "metadata": {},
   "outputs": [
    {
     "name": "stdout",
     "output_type": "stream",
     "text": [
      "the accuracy is: 0.6491228070175439\n",
      "[ 0  0  0  0  0  0  0  0  0  0 60  0 60 60 60  0  0 60  0  0 60  0 60 60\n",
      " 60 60 60 60  0  0 60 60 60  0 60 60 60 60 60  0  0 60 36 60 60 60 60 60\n",
      " 60 60  0  0 60 60 60 60  0]\n",
      "[0 0 0 0 0 0 0 0 0 0 1 0 1 1 1 0 0 1 0 0 1 0 1 1 1 1 1 1 0 0 1 1 1 0 1 1 1\n",
      " 1 1 0 0 1 1 1 1 1 1 1 1 1 0 0 1 1 1 1 0]\n"
     ]
    }
   ],
   "source": [
    "s=np.where(pred_afterT0>87,0,1)\n",
    "counts=s.sum(axis=1)\n",
    "#any period of 30 minutes or more during which at least 90% of \n",
    "#the MAP measurements were at or below 60 mmHg.\n",
    "results=np.where(counts>27,1,0)\n",
    "print('the accuracy is:',accuracy_score(labels,results))\n",
    "print(counts)\n",
    "print(results)"
   ]
  },
  {
   "cell_type": "markdown",
   "metadata": {},
   "source": [
    "## Random Forest in Way 2"
   ]
  },
  {
   "cell_type": "code",
   "execution_count": 159,
   "metadata": {},
   "outputs": [
    {
     "name": "stdout",
     "output_type": "stream",
     "text": [
      "the best params of the model:\n",
      " {'max_depth': 3, 'min_samples_leaf': 1, 'n_estimators': 70}\n",
      "Mean cross-validated score of the best_estimator : 0.6491228070175439\n",
      "CPU times: user 7min 58s, sys: 3.32 s, total: 8min 2s\n",
      "Wall time: 8min 13s\n"
     ]
    }
   ],
   "source": [
    "%%time\n",
    "'''\n",
    "Tuning the parameters of RandomForest via GridSearchCV\n",
    "'''\n",
    "params_rf2= {'n_estimators':np.arange(10,100,10),'min_samples_leaf':np.arange(1,50,3),\n",
    "         'max_depth':np.arange(1,10,1)}  \n",
    "cv_rf2= GridSearchCV(estimator = RandomForestClassifier(),\n",
    "                    param_grid =params_rf2,cv=5)  \n",
    "cv_rf2.fit(pred_afterT0,labels)  \n",
    "print('the best params of the model:\\n',cv_rf2.best_params_)\n",
    "print('Mean cross-validated score of the best_estimator :',cv_rf2.best_score_)"
   ]
  },
  {
   "cell_type": "code",
   "execution_count": 157,
   "metadata": {},
   "outputs": [
    {
     "data": {
      "text/plain": [
       "['randomforest2.m']"
      ]
     },
     "execution_count": 157,
     "metadata": {},
     "output_type": "execute_result"
    }
   ],
   "source": [
    "#save the model2\n",
    "joblib.dump(cv_rf2,'randomforest2.m')"
   ]
  },
  {
   "cell_type": "code",
   "execution_count": 161,
   "metadata": {},
   "outputs": [
    {
     "data": {
      "text/plain": [
       "['randomforest2_1.m']"
      ]
     },
     "execution_count": 161,
     "metadata": {},
     "output_type": "execute_result"
    }
   ],
   "source": [
    "joblib.dump(cv_rf2,'randomforest2_1.m')"
   ]
  },
  {
   "cell_type": "code",
   "execution_count": 212,
   "metadata": {},
   "outputs": [
    {
     "name": "stdout",
     "output_type": "stream",
     "text": [
      "Way 2 with Random Forest:\n",
      "the number of AHE in testA 4.0\n",
      "the number of AHE in testB 20.0\n"
     ]
    }
   ],
   "source": [
    "cv_rf2=joblib.load('randomforest2_1.m')\n",
    "resultA=cv_rf2.predict(testA_pred_afterT0)\n",
    "resultB=cv_rf2.predict(testB_pred_afterT0)\n",
    "print('Way 2 with Random Forest:')\n",
    "print('the number of AHE in testA',np.sum(resultA))\n",
    "print('the number of AHE in testB',np.sum(resultB))"
   ]
  },
  {
   "cell_type": "markdown",
   "metadata": {},
   "source": [
    "## Support Vector Machine in Way 2"
   ]
  },
  {
   "cell_type": "code",
   "execution_count": 194,
   "metadata": {},
   "outputs": [
    {
     "name": "stdout",
     "output_type": "stream",
     "text": [
      "{'C': 2, 'gamma': 0.004000801159831967}\n",
      "Mean cross-validated score of the best_estimator : 0.6842105263157895\n",
      "CPU times: user 16min 12s, sys: 5.57 s, total: 16min 18s\n",
      "Wall time: 16min 31s\n"
     ]
    }
   ],
   "source": [
    "%%time\n",
    "'''\n",
    "Tuning the parameters of SVC via GridSearchCV\n",
    "'''\n",
    "#C is the Penalty parameter of the error term.\n",
    "params_svc2= {'C':np.arange(1,20,1),'gamma':np.linspace(1e-9,20,5000)}  \n",
    "cv_clf2= GridSearchCV(estimator = SVC(decision_function_shape='ovo',kernel='rbf',max_iter=-1, \n",
    "                                     probability=False, random_state=None, \n",
    "                                     shrinking=True,tol=0.001, verbose=False),\n",
    "                                     param_grid = params_svc2, cv=5) \n",
    "cv_clf2.fit(pred_afterT0,labels)\n",
    "print(cv_clf2.best_params_)\n",
    "print('Mean cross-validated score of the best_estimator :',cv_clf2.best_score_)"
   ]
  },
  {
   "cell_type": "code",
   "execution_count": 168,
   "metadata": {},
   "outputs": [
    {
     "data": {
      "text/plain": [
       "['SVC2.m']"
      ]
     },
     "execution_count": 168,
     "metadata": {},
     "output_type": "execute_result"
    }
   ],
   "source": [
    "#save the model2\n",
    "joblib.dump(cv_clf2,'SVC2.m')"
   ]
  },
  {
   "cell_type": "code",
   "execution_count": 200,
   "metadata": {},
   "outputs": [
    {
     "data": {
      "text/plain": [
       "['SVC2_1.m']"
      ]
     },
     "execution_count": 200,
     "metadata": {},
     "output_type": "execute_result"
    }
   ],
   "source": [
    "joblib.dump(cv_clf2,'SVC2_1.m')"
   ]
  },
  {
   "cell_type": "code",
   "execution_count": 201,
   "metadata": {},
   "outputs": [
    {
     "name": "stdout",
     "output_type": "stream",
     "text": [
      "Way 2 with Support Vector Machine:\n",
      "the number of AHE in testA 6.0\n",
      "the number of AHE in testB 24.0\n"
     ]
    }
   ],
   "source": [
    "cv_clf2=joblib.load('SVC2_1.m')\n",
    "resultA=cv_clf2.predict(testA_pred_afterT0)\n",
    "resultB=cv_clf2.predict(testB_pred_afterT0)\n",
    "print('Way 2 with Support Vector Machine:')\n",
    "print('the number of AHE in testA',np.sum(resultA))\n",
    "print('the number of AHE in testB',np.sum(resultB))"
   ]
  },
  {
   "cell_type": "markdown",
   "metadata": {},
   "source": [
    "# Way 3\n",
    "## Calculate per average value before 3hours as the value after T0"
   ]
  },
  {
   "cell_type": "code",
   "execution_count": 202,
   "metadata": {},
   "outputs": [
    {
     "data": {
      "image/png": "[encoded data removed]",
      "text/plain": [
       "<matplotlib.figure.Figure at 0x117fb9588>"
      ]
     },
     "metadata": {},
     "output_type": "display_data"
    }
   ],
   "source": [
    "#Example for visualizaiton\n",
    "#the first patient in h2\n",
    "y=c1[1]\n",
    "#select the value between 10 and 130\n",
    "cond=np.where(((y>130)|(y<10)),-1,y).flatten()\n",
    "y=np.delete(cond,np.argwhere(cond==-1))\n",
    "\n",
    "#180 means 3 hours (240 means 4hours)\n",
    "segment_size=180\n",
    "ys=y[-segment_size:]\n",
    "y_avg_pred=np.zeros(60)\n",
    "for i in range(60):\n",
    "    y_avg_pred[i]=np.mean(ys)\n",
    "    ys[i]=y_avg_pred[i]\n",
    "\n",
    "plt.figure()\n",
    "plt.xlabel('X')\n",
    "plt.ylabel('Y')\n",
    "plt.grid(True) \n",
    "plt.plot(range(len(y)),y) \n",
    "plt.plot(range(len(y),len(y)+60),y_avg_pred,'r-') \n",
    "plt.show()\n",
    "    "
   ]
  },
  {
   "cell_type": "markdown",
   "metadata": {},
   "source": [
    "### Training set"
   ]
  },
  {
   "cell_type": "code",
   "execution_count": 203,
   "metadata": {},
   "outputs": [
    {
     "name": "stdout",
     "output_type": "stream",
     "text": [
      "(57, 60)\n"
     ]
    }
   ],
   "source": [
    "#store the predictions after T0 \n",
    "#Calculate per average value before 3hours as the value after T0¶\n",
    "avgpred_afterT0=[]\n",
    "\n",
    "segment_size=180\n",
    "Dict={'C1':c1,'C2':c2,'H1':h1,'H2':h2}\n",
    "for k,v in Dict.items():\n",
    "    for i in range(len(v)):\n",
    "        \n",
    "        y=v[i]\n",
    "        cond=np.where(((y>130)|(y<10)),-1,y)\n",
    "        y=np.delete(cond,np.argwhere(cond==-1))   \n",
    "        \n",
    "        ys=y[-segment_size:]\n",
    "        y_avg_pred=np.zeros(60)\n",
    "        for i in range(60):\n",
    "            y_avg_pred[i]=np.mean(ys)\n",
    "            ys[i]=y_avg_pred[i]\n",
    "\n",
    "        avgpred_afterT0.append(y_avg_pred)\n",
    "        \n",
    "#convert into the type of numpy.arry\n",
    "avgpred_afterT0=np.array(avgpred_afterT0)\n",
    "\n",
    "print(avgpred_afterT0.shape)"
   ]
  },
  {
   "cell_type": "markdown",
   "metadata": {},
   "source": [
    "### Testing set"
   ]
  },
  {
   "cell_type": "code",
   "execution_count": 204,
   "metadata": {},
   "outputs": [
    {
     "name": "stdout",
     "output_type": "stream",
     "text": [
      "(9, 60) (40, 60)\n"
     ]
    }
   ],
   "source": [
    "#store the predictions after T0 \n",
    "#Calculate per average value before 3hours as the value after T0¶\n",
    "testA_avgpred_afterT0=[]\n",
    "testB_avgpred_afterT0=[]\n",
    "segment_size=180\n",
    "for i in range(len(testA)):\n",
    "    y=testA[i]\n",
    "    cond=np.where(((y>130)|(y<10)),-1,y)\n",
    "    y=np.delete(cond,np.argwhere(cond==-1))\n",
    "\n",
    "    ys=y[-segment_size:]\n",
    "    y_avg_pred=np.zeros(60)\n",
    "    for i in range(60):\n",
    "        y_avg_pred[i]=np.mean(ys)\n",
    "        ys[i]=y_avg_pred[i]\n",
    "    testA_avgpred_afterT0.append(y_avg_pred)   \n",
    "    \n",
    "for i in range(len(testB)):\n",
    "    y=testB[i]\n",
    "    cond=np.where(((y>130)|(y<10)),-1,y)\n",
    "    y=np.delete(cond,np.argwhere(cond==-1))\n",
    "\n",
    "    ys=y[-segment_size:]\n",
    "    y_avg_pred=np.zeros(60)\n",
    "    for i in range(60):\n",
    "        y_avg_pred[i]=np.mean(ys)\n",
    "        ys[i]=y_avg_pred[i]\n",
    "    testB_avgpred_afterT0.append(y_avg_pred)   \n",
    "    \n",
    "#convert into the type of numpy.arry\n",
    "testA_avgpred_afterT0=np.array(testA_avgpred_afterT0)\n",
    "testB_avgpred_afterT0=np.array(testB_avgpred_afterT0)\n",
    "\n",
    "print(testA_avgpred_afterT0.shape,testB_avgpred_afterT0.shape)"
   ]
  },
  {
   "cell_type": "markdown",
   "metadata": {},
   "source": [
    "## Random Forest in Way 3"
   ]
  },
  {
   "cell_type": "code",
   "execution_count": 205,
   "metadata": {},
   "outputs": [
    {
     "name": "stdout",
     "output_type": "stream",
     "text": [
      "the best params of the model:\n",
      " {'max_depth': 1, 'min_samples_leaf': 15, 'n_estimators': 47}\n",
      "Mean cross-validated score of the best_estimator : 0.6666666666666666\n",
      "CPU times: user 23min 58s, sys: 5.3 s, total: 24min 4s\n",
      "Wall time: 32min 26s\n"
     ]
    }
   ],
   "source": [
    "%%time\n",
    "'''\n",
    "Tuning the parameters of RandomForest via GridSearchCV\n",
    "'''\n",
    "params_rf3= {'n_estimators':np.arange(2,100,5),'min_samples_leaf':np.arange(1,50,2),\n",
    "         'max_depth':np.arange(1,10,1)}  \n",
    "cv_rf3= GridSearchCV(estimator = RandomForestClassifier(),\n",
    "                    param_grid =params_rf3,cv=5)  \n",
    "cv_rf3.fit(avgpred_afterT0,labels)  \n",
    "print('the best params of the model:\\n',cv_rf3.best_params_)\n",
    "print('Mean cross-validated score of the best_estimator :',cv_rf3.best_score_)"
   ]
  },
  {
   "cell_type": "code",
   "execution_count": 206,
   "metadata": {},
   "outputs": [
    {
     "data": {
      "text/plain": [
       "['randomforest3.m']"
      ]
     },
     "execution_count": 206,
     "metadata": {},
     "output_type": "execute_result"
    }
   ],
   "source": [
    "#save the model3\n",
    "joblib.dump(cv_rf3,'randomforest3.m')"
   ]
  },
  {
   "cell_type": "code",
   "execution_count": 207,
   "metadata": {},
   "outputs": [
    {
     "name": "stdout",
     "output_type": "stream",
     "text": [
      "Way 3 with Random Forest:\n",
      "the number of AHE in testA 8.0\n",
      "the number of AHE in testB 28.0\n"
     ]
    }
   ],
   "source": [
    "cv_rf3=joblib.load('randomforest3.m')\n",
    "resultA=cv_rf3.predict(testA_avgpred_afterT0)\n",
    "resultB=cv_rf3.predict(testB_avgpred_afterT0)\n",
    "print('Way 3 with Random Forest:')\n",
    "print('the number of AHE in testA',np.sum(resultA))\n",
    "print('the number of AHE in testB',np.sum(resultB))"
   ]
  },
  {
   "cell_type": "markdown",
   "metadata": {},
   "source": [
    "## Support Vector Machine in Way 3"
   ]
  },
  {
   "cell_type": "code",
   "execution_count": 208,
   "metadata": {},
   "outputs": [
    {
     "name": "stdout",
     "output_type": "stream",
     "text": [
      "{'C': 1, 'gamma': 0.006667778962660444}\n",
      "Mean cross-validated score of the best_estimator : 0.631578947368421\n",
      "CPU times: user 19min 57s, sys: 8.53 s, total: 20min 5s\n",
      "Wall time: 20min 20s\n"
     ]
    }
   ],
   "source": [
    "%%time\n",
    "'''\n",
    "Tuning the parameters of SVC via GridSearchCV\n",
    "'''\n",
    "#C is the Penalty parameter of the error term.\n",
    "params_svc3= {'C':np.arange(1,20,1),'gamma':np.linspace(1e-9,20,6000)}  \n",
    "cv_clf3= GridSearchCV(estimator = SVC(decision_function_shape='ovo',kernel='rbf',max_iter=-1, \n",
    "                                     probability=False, random_state=None, \n",
    "                                     shrinking=True,tol=0.001, verbose=False),\n",
    "                                     param_grid = params_svc3, cv=5) \n",
    "cv_clf3.fit(avgpred_afterT0,labels)\n",
    "print(cv_clf3.best_params_)\n",
    "print('Mean cross-validated score of the best_estimator :',cv_clf3.best_score_)"
   ]
  },
  {
   "cell_type": "code",
   "execution_count": 209,
   "metadata": {},
   "outputs": [
    {
     "data": {
      "text/plain": [
       "['SVC3.m']"
      ]
     },
     "execution_count": 209,
     "metadata": {},
     "output_type": "execute_result"
    }
   ],
   "source": [
    "#save the model2\n",
    "joblib.dump(cv_clf3,'SVC3.m')"
   ]
  },
  {
   "cell_type": "code",
   "execution_count": 210,
   "metadata": {},
   "outputs": [
    {
     "name": "stdout",
     "output_type": "stream",
     "text": [
      "Way 3 with Support Vector Machine:\n",
      "the number of AHE in testA 6.0\n",
      "the number of AHE in testB 29.0\n"
     ]
    }
   ],
   "source": [
    "# cv_clf3=joblib.load('SVC3.m')\n",
    "resultA=cv_clf3.predict(testA_avgpred_afterT0)\n",
    "resultB=cv_clf3.predict(testB_avgpred_afterT0)\n",
    "print('Way 3 with Support Vector Machine:')\n",
    "print('the number of AHE in testA',np.sum(resultA))\n",
    "print('the number of AHE in testB',np.sum(resultB))"
   ]
  },
  {
   "cell_type": "markdown",
   "metadata": {},
   "source": [
    "# Kernel Ridge Regression"
   ]
  },
  {
   "cell_type": "code",
   "execution_count": 111,
   "metadata": {
    "scrolled": false
   },
   "outputs": [
    {
     "name": "stdout",
     "output_type": "stream",
     "text": [
      "(600,)\n",
      "(66000, 1)\n"
     ]
    },
    {
     "data": {
      "image/png": "[encoded data removed]",
      "text/plain": [
       "<matplotlib.figure.Figure at 0x10a392a20>"
      ]
     },
     "metadata": {},
     "output_type": "display_data"
    }
   ],
   "source": [
    "from sklearn.model_selection import GridSearchCV\n",
    "from sklearn.kernel_ridge import KernelRidge\n",
    "\n",
    "#Example\n",
    "#the first patient in c1\n",
    "y=c1[0]\n",
    "#select the value between 10 and 130\n",
    "cond=np.where(((y>130)|(y<10)),-1,y).flatten()\n",
    "y=np.delete(cond,np.argwhere(cond==-1))\n",
    "print(y.shape)\n",
    "x=np.arange(len(y)).reshape(len(y),1)\n",
    "\n",
    "x_test=np.arange(0,len(x)+60,0.01).reshape((len(x)+60)*100,1)\n",
    "print(x_test.shape)\n",
    "train_size=600\n",
    "krr = GridSearchCV(KernelRidge(kernel='rbf', gamma=0.1), cv=5,\n",
    "                  param_grid={\"alpha\": [1e0, 0.1, 1e-2, 1e-3],\n",
    "                              \"gamma\": np.logspace(-2, 2, 5)})\n",
    "krr.fit(x[:train_size], y[:train_size])\n",
    "y_pred=krr.predict(x_test)\n",
    "plt.plot(x,y)\n",
    "plt.plot(x_test,y_pred)\n",
    "plt.show()\n"
   ]
  },
  {
   "cell_type": "markdown",
   "metadata": {},
   "source": [
    "# Time series Analysis ---to be continued"
   ]
  },
  {
   "cell_type": "code",
   "execution_count": 5,
   "metadata": {},
   "outputs": [],
   "source": [
    "from pandas import Series\n",
    "import pandas"
   ]
  },
  {
   "cell_type": "code",
   "execution_count": 16,
   "metadata": {},
   "outputs": [
    {
     "name": "stderr",
     "output_type": "stream",
     "text": [
      "/usr/local/Cellar/python3/3.6.4_2/Frameworks/Python.framework/Versions/3.6/lib/python3.6/site-packages/pandas/core/series.py:3724: FutureWarning: from_csv is deprecated. Please use read_csv(...) instead. Note that some of the default arguments are different, so please refer to the documentation for from_csv when changing your function calls\n",
      "  infer_datetime_format=infer_datetime_format)\n"
     ]
    },
    {
     "data": {
      "text/plain": [
       "'[10:00:00 30/06/2016]'    60.3\n",
       "'[10:01:00 30/06/2016]'    64.3\n",
       "'[10:02:00 30/06/2016]'    60.9\n",
       "'[10:03:00 30/06/2016]'    59.8\n",
       "'[10:04:00 30/06/2016]'    60.5\n",
       "dtype: float64"
      ]
     },
     "execution_count": 16,
     "metadata": {},
     "output_type": "execute_result"
    }
   ],
   "source": [
    "test=Series.from_csv('a40282n.csv',header=None)\n",
    "# p=pandas.read_csv('a40282n.csv',header=None)\n",
    "test.head()"
   ]
  },
  {
   "cell_type": "code",
   "execution_count": null,
   "metadata": {},
   "outputs": [],
   "source": []
  }
 ],
 "metadata": {
  "kernelspec": {
   "display_name": "Python 3",
   "language": "python",
   "name": "python3"
  },
  "language_info": {
   "codemirror_mode": {
    "name": "ipython",
    "version": 3
   },
   "file_extension": ".py",
   "mimetype": "text/x-python",
   "name": "python",
   "nbconvert_exporter": "python",
   "pygments_lexer": "ipython3",
   "version": "3.6.4"
  }
 },
 "nbformat": 4,
 "nbformat_minor": 2
}

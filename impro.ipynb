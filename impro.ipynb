{
 "cells": [
  {
   "cell_type": "code",
   "execution_count": 34,
   "metadata": {},
   "outputs": [],
   "source": [
    "from IPython.core.interactiveshell import InteractiveShell\n",
    "InteractiveShell.ast_node_interactivity = \"all\""
   ]
  },
  {
   "cell_type": "code",
   "execution_count": 35,
   "metadata": {},
   "outputs": [],
   "source": [
    "import numpy as np\n",
    "import pylab as plt\n",
    "%matplotlib inline\n",
    "from sklearn.linear_model import LinearRegression"
   ]
  },
  {
   "cell_type": "code",
   "execution_count": 36,
   "metadata": {},
   "outputs": [],
   "source": [
    "c1 = np.loadtxt('resources/c1_matrix.txt')\n",
    "c2 = np.loadtxt('resources/c2_matrix.txt')\n",
    "h1 = np.loadtxt('resources/h1_matrix.txt')\n",
    "h2 = np.loadtxt('resources/h2_matrix.txt')"
   ]
  },
  {
   "cell_type": "code",
   "execution_count": 37,
   "metadata": {
    "scrolled": true
   },
   "outputs": [
    {
     "name": "stdout",
     "output_type": "stream",
     "text": [
      "Patient 1 in C1: 92.39 80.70 122 178\n",
      "Patient 2 in C1: 89.54 82.68 159 140\n",
      "Patient 3 in C1: 117.13 102.97 122 136\n",
      "Patient 4 in C1: 109.58 105.62 169 129\n",
      "Patient 5 in C1: 103.01 94.55 143 155\n",
      "Patient 6 in C1: 102.67 99.65 142 158\n",
      "Patient 7 in C1: 115.39 96.71 172 128\n",
      "Patient 8 in C1: 107.38 102.05 133 134\n",
      "Patient 9 in C1: 86.90 80.44 148 152\n",
      "Patient 10 in C1: 91.57 77.15 176 123\n",
      "Patient 11 in C1: 80.15 74.11 150 150\n",
      "Patient 12 in C1: 97.99 89.20 160 140\n",
      "Patient 13 in C1: 85.76 76.93 109 191\n",
      "Patient 14 in C1: 79.29 72.68 139 161\n",
      "CPU times: user 18.3 ms, sys: 5.57 ms, total: 23.9 ms\n",
      "Wall time: 19.3 ms\n"
     ]
    }
   ],
   "source": [
    "%%time\n",
    "for i in range(len(c1)):\n",
    "    y=c1[i]\n",
    "    #select the value between 10 and 130\n",
    "    cond=np.where(((y>130)|(y<10)),-1,y)\n",
    "    y=np.delete(cond,np.argwhere(cond==-1))\n",
    "    \n",
    "    x=np.arange(len(y))\n",
    "    model = LinearRegression()\n",
    "    model.fit(np.reshape(x,[len(x),1]), np.reshape(y,[len(y),1]))\n",
    "    yy = model.predict(np.reshape(x,[len(x),1]))\n",
    "\n",
    "    w = model.coef_[0][0] # parameters of model\n",
    "    b = model.intercept_[0] #intercept of model\n",
    "    \n",
    "    g1=np.where(y>w*x+b,y,-1) # upper cluster\n",
    "    g11=np.delete(g1,np.argwhere(g1==-1))\n",
    "    g11_mean=np.mean(g11)\n",
    "\n",
    "    g2=np.where(y<w*x+b,y,-1) # lower cluster\n",
    "    g21=np.delete(g2,np.argwhere(g2==-1))\n",
    "    g21_mean=np.mean(g21)\n",
    "    \n",
    "    print('Patient',i+1, 'in C1:','%0.2f'%g11_mean,'%0.2f'%g21_mean,len(g11),len(g21))"
   ]
  },
  {
   "cell_type": "code",
   "execution_count": 39,
   "metadata": {},
   "outputs": [
    {
     "data": {
      "text/plain": [
       "LinearRegression(copy_X=True, fit_intercept=True, n_jobs=1, normalize=False)"
      ]
     },
     "execution_count": 39,
     "metadata": {},
     "output_type": "execute_result"
    },
    {
     "name": "stdout",
     "output_type": "stream",
     "text": [
      "Patient 1 in C2: 87.84 83.36 128 172\n"
     ]
    },
    {
     "data": {
      "text/plain": [
       "LinearRegression(copy_X=True, fit_intercept=True, n_jobs=1, normalize=False)"
      ]
     },
     "execution_count": 39,
     "metadata": {},
     "output_type": "execute_result"
    },
    {
     "name": "stdout",
     "output_type": "stream",
     "text": [
      "Patient 2 in C2: 81.32 74.88 117 180\n"
     ]
    },
    {
     "data": {
      "text/plain": [
       "LinearRegression(copy_X=True, fit_intercept=True, n_jobs=1, normalize=False)"
      ]
     },
     "execution_count": 39,
     "metadata": {},
     "output_type": "execute_result"
    },
    {
     "name": "stdout",
     "output_type": "stream",
     "text": [
      "Patient 3 in C2: 99.95 83.69 132 167\n"
     ]
    },
    {
     "data": {
      "text/plain": [
       "LinearRegression(copy_X=True, fit_intercept=True, n_jobs=1, normalize=False)"
      ]
     },
     "execution_count": 39,
     "metadata": {},
     "output_type": "execute_result"
    },
    {
     "name": "stdout",
     "output_type": "stream",
     "text": [
      "Patient 4 in C2: 83.46 74.69 154 146\n"
     ]
    },
    {
     "data": {
      "text/plain": [
       "LinearRegression(copy_X=True, fit_intercept=True, n_jobs=1, normalize=False)"
      ]
     },
     "execution_count": 39,
     "metadata": {},
     "output_type": "execute_result"
    },
    {
     "name": "stdout",
     "output_type": "stream",
     "text": [
      "Patient 5 in C2: 91.03 73.39 142 158\n"
     ]
    },
    {
     "data": {
      "text/plain": [
       "LinearRegression(copy_X=True, fit_intercept=True, n_jobs=1, normalize=False)"
      ]
     },
     "execution_count": 39,
     "metadata": {},
     "output_type": "execute_result"
    },
    {
     "name": "stdout",
     "output_type": "stream",
     "text": [
      "Patient 6 in C2: 122.95 102.05 128 70\n"
     ]
    },
    {
     "data": {
      "text/plain": [
       "LinearRegression(copy_X=True, fit_intercept=True, n_jobs=1, normalize=False)"
      ]
     },
     "execution_count": 39,
     "metadata": {},
     "output_type": "execute_result"
    },
    {
     "name": "stdout",
     "output_type": "stream",
     "text": [
      "Patient 7 in C2: 83.07 67.78 151 147\n"
     ]
    },
    {
     "data": {
      "text/plain": [
       "LinearRegression(copy_X=True, fit_intercept=True, n_jobs=1, normalize=False)"
      ]
     },
     "execution_count": 39,
     "metadata": {},
     "output_type": "execute_result"
    },
    {
     "name": "stdout",
     "output_type": "stream",
     "text": [
      "Patient 8 in C2: 79.63 68.36 126 174\n"
     ]
    },
    {
     "data": {
      "text/plain": [
       "LinearRegression(copy_X=True, fit_intercept=True, n_jobs=1, normalize=False)"
      ]
     },
     "execution_count": 39,
     "metadata": {},
     "output_type": "execute_result"
    },
    {
     "name": "stdout",
     "output_type": "stream",
     "text": [
      "Patient 9 in C2: 73.23 63.64 110 190\n"
     ]
    },
    {
     "data": {
      "text/plain": [
       "LinearRegression(copy_X=True, fit_intercept=True, n_jobs=1, normalize=False)"
      ]
     },
     "execution_count": 39,
     "metadata": {},
     "output_type": "execute_result"
    },
    {
     "name": "stdout",
     "output_type": "stream",
     "text": [
      "Patient 10 in C2: 83.20 73.95 140 160\n"
     ]
    },
    {
     "data": {
      "text/plain": [
       "LinearRegression(copy_X=True, fit_intercept=True, n_jobs=1, normalize=False)"
      ]
     },
     "execution_count": 39,
     "metadata": {},
     "output_type": "execute_result"
    },
    {
     "name": "stdout",
     "output_type": "stream",
     "text": [
      "Patient 11 in C2: 79.76 70.86 125 174\n"
     ]
    }
   ],
   "source": [
    "c2 = np.loadtxt('resources/c2_matrix.txt')\n",
    "for i in range(len(c2)):\n",
    "    y=c2[i]\n",
    "    #select the value between 10 and 130\n",
    "    cond=np.where(((y>130)|(y<10)),-1,y)\n",
    "    y=np.delete(cond,np.argwhere(cond==-1))\n",
    "    \n",
    "    x=np.arange(len(y))\n",
    "    model = LinearRegression()\n",
    "    model.fit(np.reshape(x,[len(x),1]), np.reshape(y,[len(y),1]))\n",
    "    yy = model.predict(np.reshape(x,[len(x),1]))\n",
    "    \n",
    "    w = model.coef_[0][0] # parameters of model\n",
    "    b = model.intercept_[0] #intercept of model\n",
    "    \n",
    "    g1=np.where(y>w*x+b,y,-1)\n",
    "    g11=np.delete(g1,np.argwhere(g1==-1))\n",
    "    g11_mean=np.mean(g11)\n",
    "\n",
    "    g2=np.where(y<w*x+b,y,-1)\n",
    "    g21=np.delete(g2,np.argwhere(g2==-1))\n",
    "    g21_mean=np.mean(g21)\n",
    "    \n",
    "    print('Patient',i+1, 'in C2:','%0.2f'%g11_mean,'%0.2f'%g21_mean,len(g11),len(g21))"
   ]
  },
  {
   "cell_type": "code",
   "execution_count": 31,
   "metadata": {},
   "outputs": [
    {
     "data": {
      "text/plain": [
       "LinearRegression(copy_X=True, fit_intercept=True, n_jobs=1, normalize=False)"
      ]
     },
     "execution_count": 31,
     "metadata": {},
     "output_type": "execute_result"
    },
    {
     "name": "stdout",
     "output_type": "stream",
     "text": [
      "Patient 1 in H1: 102.57 76.91 78 49\n"
     ]
    },
    {
     "data": {
      "text/plain": [
       "LinearRegression(copy_X=True, fit_intercept=True, n_jobs=1, normalize=False)"
      ]
     },
     "execution_count": 31,
     "metadata": {},
     "output_type": "execute_result"
    },
    {
     "name": "stdout",
     "output_type": "stream",
     "text": [
      "Patient 2 in H1: 122.97 112.67 48 43\n"
     ]
    },
    {
     "data": {
      "text/plain": [
       "LinearRegression(copy_X=True, fit_intercept=True, n_jobs=1, normalize=False)"
      ]
     },
     "execution_count": 31,
     "metadata": {},
     "output_type": "execute_result"
    },
    {
     "name": "stdout",
     "output_type": "stream",
     "text": [
      "Patient 3 in H1: 67.86 63.46 142 158\n"
     ]
    },
    {
     "data": {
      "text/plain": [
       "LinearRegression(copy_X=True, fit_intercept=True, n_jobs=1, normalize=False)"
      ]
     },
     "execution_count": 31,
     "metadata": {},
     "output_type": "execute_result"
    },
    {
     "name": "stdout",
     "output_type": "stream",
     "text": [
      "Patient 4 in H1: 91.00 76.61 132 166\n"
     ]
    },
    {
     "data": {
      "text/plain": [
       "LinearRegression(copy_X=True, fit_intercept=True, n_jobs=1, normalize=False)"
      ]
     },
     "execution_count": 31,
     "metadata": {},
     "output_type": "execute_result"
    },
    {
     "name": "stdout",
     "output_type": "stream",
     "text": [
      "Patient 5 in H1: 86.74 75.51 176 124\n"
     ]
    },
    {
     "data": {
      "text/plain": [
       "LinearRegression(copy_X=True, fit_intercept=True, n_jobs=1, normalize=False)"
      ]
     },
     "execution_count": 31,
     "metadata": {},
     "output_type": "execute_result"
    },
    {
     "name": "stdout",
     "output_type": "stream",
     "text": [
      "Patient 6 in H1: 71.51 63.17 137 160\n"
     ]
    },
    {
     "data": {
      "text/plain": [
       "LinearRegression(copy_X=True, fit_intercept=True, n_jobs=1, normalize=False)"
      ]
     },
     "execution_count": 31,
     "metadata": {},
     "output_type": "execute_result"
    },
    {
     "name": "stdout",
     "output_type": "stream",
     "text": [
      "Patient 7 in H1: 74.56 69.34 131 169\n"
     ]
    },
    {
     "data": {
      "text/plain": [
       "LinearRegression(copy_X=True, fit_intercept=True, n_jobs=1, normalize=False)"
      ]
     },
     "execution_count": 31,
     "metadata": {},
     "output_type": "execute_result"
    },
    {
     "name": "stdout",
     "output_type": "stream",
     "text": [
      "Patient 8 in H1: 72.59 62.19 138 162\n"
     ]
    },
    {
     "data": {
      "text/plain": [
       "LinearRegression(copy_X=True, fit_intercept=True, n_jobs=1, normalize=False)"
      ]
     },
     "execution_count": 31,
     "metadata": {},
     "output_type": "execute_result"
    },
    {
     "name": "stdout",
     "output_type": "stream",
     "text": [
      "Patient 9 in H1: 93.05 75.92 127 173\n"
     ]
    },
    {
     "data": {
      "text/plain": [
       "LinearRegression(copy_X=True, fit_intercept=True, n_jobs=1, normalize=False)"
      ]
     },
     "execution_count": 31,
     "metadata": {},
     "output_type": "execute_result"
    },
    {
     "name": "stdout",
     "output_type": "stream",
     "text": [
      "Patient 10 in H1: 121.85 111.90 123 141\n"
     ]
    },
    {
     "data": {
      "text/plain": [
       "LinearRegression(copy_X=True, fit_intercept=True, n_jobs=1, normalize=False)"
      ]
     },
     "execution_count": 31,
     "metadata": {},
     "output_type": "execute_result"
    },
    {
     "name": "stdout",
     "output_type": "stream",
     "text": [
      "Patient 11 in H1: 88.34 86.65 116 180\n"
     ]
    },
    {
     "data": {
      "text/plain": [
       "LinearRegression(copy_X=True, fit_intercept=True, n_jobs=1, normalize=False)"
      ]
     },
     "execution_count": 31,
     "metadata": {},
     "output_type": "execute_result"
    },
    {
     "name": "stdout",
     "output_type": "stream",
     "text": [
      "Patient 12 in H1: 90.30 76.93 127 165\n"
     ]
    }
   ],
   "source": [
    "h1 = np.loadtxt('resources/h1_matrix.txt')\n",
    "for i in range(len(h1)):\n",
    "    y=h1[i]\n",
    "    #select the value between 10 and 130\n",
    "    cond=np.where(((y>130)|(y<10)),-1,y)\n",
    "    y=np.delete(cond,np.argwhere(cond==-1))\n",
    "    \n",
    "    x=np.arange(len(y))\n",
    "    model = LinearRegression()\n",
    "    model.fit(np.reshape(x,[len(x),1]), np.reshape(y,[len(y),1]))\n",
    "    yy = model.predict(np.reshape(x,[len(x),1]))\n",
    "    \n",
    "    w = model.coef_[0][0] # parameters of model\n",
    "    b = model.intercept_[0] #intercept of model\n",
    "    \n",
    "    g1=np.where(y>w*x+b,y,-1)\n",
    "    g11=np.delete(g1,np.argwhere(g1==-1))\n",
    "    g11_mean=np.mean(g11)\n",
    "\n",
    "    g2=np.where(y<w*x+b,y,-1)\n",
    "    g21=np.delete(g2,np.argwhere(g2==-1))\n",
    "    g21_mean=np.mean(g21)\n",
    "    \n",
    "    print('Patient',i+1, 'in H1:','%0.2f'%g11_mean,'%0.2f'%g21_mean,len(g11),len(g21))"
   ]
  },
  {
   "cell_type": "code",
   "execution_count": 32,
   "metadata": {},
   "outputs": [
    {
     "data": {
      "text/plain": [
       "LinearRegression(copy_X=True, fit_intercept=True, n_jobs=1, normalize=False)"
      ]
     },
     "execution_count": 32,
     "metadata": {},
     "output_type": "execute_result"
    },
    {
     "name": "stdout",
     "output_type": "stream",
     "text": [
      "Patient 1 in H2: 69.65 65.75 132 167\n"
     ]
    },
    {
     "data": {
      "text/plain": [
       "LinearRegression(copy_X=True, fit_intercept=True, n_jobs=1, normalize=False)"
      ]
     },
     "execution_count": 32,
     "metadata": {},
     "output_type": "execute_result"
    },
    {
     "name": "stdout",
     "output_type": "stream",
     "text": [
      "Patient 2 in H2: 72.07 63.98 163 136\n"
     ]
    },
    {
     "data": {
      "text/plain": [
       "LinearRegression(copy_X=True, fit_intercept=True, n_jobs=1, normalize=False)"
      ]
     },
     "execution_count": 32,
     "metadata": {},
     "output_type": "execute_result"
    },
    {
     "name": "stdout",
     "output_type": "stream",
     "text": [
      "Patient 3 in H2: 69.96 59.92 111 187\n"
     ]
    },
    {
     "data": {
      "text/plain": [
       "LinearRegression(copy_X=True, fit_intercept=True, n_jobs=1, normalize=False)"
      ]
     },
     "execution_count": 32,
     "metadata": {},
     "output_type": "execute_result"
    },
    {
     "name": "stdout",
     "output_type": "stream",
     "text": [
      "Patient 4 in H2: 69.17 62.08 112 188\n"
     ]
    },
    {
     "data": {
      "text/plain": [
       "LinearRegression(copy_X=True, fit_intercept=True, n_jobs=1, normalize=False)"
      ]
     },
     "execution_count": 32,
     "metadata": {},
     "output_type": "execute_result"
    },
    {
     "name": "stdout",
     "output_type": "stream",
     "text": [
      "Patient 5 in H2: 77.20 68.71 150 150\n"
     ]
    },
    {
     "data": {
      "text/plain": [
       "LinearRegression(copy_X=True, fit_intercept=True, n_jobs=1, normalize=False)"
      ]
     },
     "execution_count": 32,
     "metadata": {},
     "output_type": "execute_result"
    },
    {
     "name": "stdout",
     "output_type": "stream",
     "text": [
      "Patient 6 in H2: 82.24 67.72 177 122\n"
     ]
    },
    {
     "data": {
      "text/plain": [
       "LinearRegression(copy_X=True, fit_intercept=True, n_jobs=1, normalize=False)"
      ]
     },
     "execution_count": 32,
     "metadata": {},
     "output_type": "execute_result"
    },
    {
     "name": "stdout",
     "output_type": "stream",
     "text": [
      "Patient 7 in H2: 73.69 64.57 164 134\n"
     ]
    },
    {
     "data": {
      "text/plain": [
       "LinearRegression(copy_X=True, fit_intercept=True, n_jobs=1, normalize=False)"
      ]
     },
     "execution_count": 32,
     "metadata": {},
     "output_type": "execute_result"
    },
    {
     "name": "stdout",
     "output_type": "stream",
     "text": [
      "Patient 8 in H2: 123.78 113.25 120 95\n"
     ]
    },
    {
     "data": {
      "text/plain": [
       "LinearRegression(copy_X=True, fit_intercept=True, n_jobs=1, normalize=False)"
      ]
     },
     "execution_count": 32,
     "metadata": {},
     "output_type": "execute_result"
    },
    {
     "name": "stdout",
     "output_type": "stream",
     "text": [
      "Patient 9 in H2: 119.08 109.01 102 108\n"
     ]
    },
    {
     "data": {
      "text/plain": [
       "LinearRegression(copy_X=True, fit_intercept=True, n_jobs=1, normalize=False)"
      ]
     },
     "execution_count": 32,
     "metadata": {},
     "output_type": "execute_result"
    },
    {
     "name": "stdout",
     "output_type": "stream",
     "text": [
      "Patient 10 in H2: 80.16 62.20 166 132\n"
     ]
    },
    {
     "data": {
      "text/plain": [
       "LinearRegression(copy_X=True, fit_intercept=True, n_jobs=1, normalize=False)"
      ]
     },
     "execution_count": 32,
     "metadata": {},
     "output_type": "execute_result"
    },
    {
     "name": "stdout",
     "output_type": "stream",
     "text": [
      "Patient 11 in H2: 69.76 64.33 139 161\n"
     ]
    },
    {
     "data": {
      "text/plain": [
       "LinearRegression(copy_X=True, fit_intercept=True, n_jobs=1, normalize=False)"
      ]
     },
     "execution_count": 32,
     "metadata": {},
     "output_type": "execute_result"
    },
    {
     "name": "stdout",
     "output_type": "stream",
     "text": [
      "Patient 12 in H2: 77.69 67.07 114 186\n"
     ]
    },
    {
     "data": {
      "text/plain": [
       "LinearRegression(copy_X=True, fit_intercept=True, n_jobs=1, normalize=False)"
      ]
     },
     "execution_count": 32,
     "metadata": {},
     "output_type": "execute_result"
    },
    {
     "name": "stdout",
     "output_type": "stream",
     "text": [
      "Patient 13 in H2: 84.69 71.29 112 187\n"
     ]
    },
    {
     "data": {
      "text/plain": [
       "LinearRegression(copy_X=True, fit_intercept=True, n_jobs=1, normalize=False)"
      ]
     },
     "execution_count": 32,
     "metadata": {},
     "output_type": "execute_result"
    },
    {
     "name": "stdout",
     "output_type": "stream",
     "text": [
      "Patient 14 in H2: 90.32 71.92 182 115\n"
     ]
    }
   ],
   "source": [
    "h2 = np.loadtxt('resources/h2_matrix.txt')\n",
    "for i in range(len(h2)):\n",
    "    y=h2[i]\n",
    "    #select the value between 10 and 130\n",
    "    cond=np.where(((y>130)|(y<10)),-1,y)\n",
    "    y=np.delete(cond,np.argwhere(cond==-1))\n",
    "    \n",
    "    x=np.arange(len(y))\n",
    "    model = LinearRegression()\n",
    "    model.fit(np.reshape(x,[len(x),1]), np.reshape(y,[len(y),1]))\n",
    "    yy = model.predict(np.reshape(x,[len(x),1]))\n",
    "    \n",
    "    w = model.coef_[0][0] # parameters of model\n",
    "    b = model.intercept_[0] #intercept of model\n",
    "    \n",
    "    g1=np.where(y>w*x+b,y,-1)\n",
    "    g11=np.delete(g1,np.argwhere(g1==-1))\n",
    "    g11_mean=np.mean(g11)\n",
    "\n",
    "    g2=np.where(y<w*x+b,y,-1)\n",
    "    g21=np.delete(g2,np.argwhere(g2==-1))\n",
    "    g21_mean=np.mean(g21)\n",
    "    \n",
    "    print('Patient',i+1, 'in H2:','%0.2f'%g11_mean,'%0.2f'%g21_mean,len(g11),len(g21))"
   ]
  },
  {
   "cell_type": "code",
   "execution_count": 33,
   "metadata": {},
   "outputs": [
    {
     "data": {
      "text/plain": [
       "(300,)"
      ]
     },
     "execution_count": 33,
     "metadata": {},
     "output_type": "execute_result"
    }
   ],
   "source": [
    "y=c1[0]\n",
    "#select the value between 10 and 130\n",
    "cond=np.where(((y>130)|(y<10)),-1,y)\n",
    "y=np.delete(cond,np.argwhere(cond==-1))\n",
    "y.shape"
   ]
  },
  {
   "cell_type": "code",
   "execution_count": 28,
   "metadata": {},
   "outputs": [
    {
     "data": {
      "text/plain": [
       "(300,)"
      ]
     },
     "execution_count": 28,
     "metadata": {},
     "output_type": "execute_result"
    },
    {
     "data": {
      "text/plain": [
       "LinearRegression(copy_X=True, fit_intercept=True, n_jobs=1, normalize=False)"
      ]
     },
     "execution_count": 28,
     "metadata": {},
     "output_type": "execute_result"
    },
    {
     "data": {
      "text/plain": [
       "<Figure size 432x288 with 0 Axes>"
      ]
     },
     "execution_count": 28,
     "metadata": {},
     "output_type": "execute_result"
    },
    {
     "data": {
      "text/plain": [
       "Text(0.5,0,'X')"
      ]
     },
     "execution_count": 28,
     "metadata": {},
     "output_type": "execute_result"
    },
    {
     "data": {
      "text/plain": [
       "Text(0,0.5,'Y')"
      ]
     },
     "execution_count": 28,
     "metadata": {},
     "output_type": "execute_result"
    },
    {
     "data": {
      "text/plain": [
       "[<matplotlib.lines.Line2D at 0x109010e10>]"
      ]
     },
     "execution_count": 28,
     "metadata": {},
     "output_type": "execute_result"
    },
    {
     "data": {
      "text/plain": [
       "[<matplotlib.lines.Line2D at 0x109010c50>]"
      ]
     },
     "execution_count": 28,
     "metadata": {},
     "output_type": "execute_result"
    },
    {
     "data": {
      "image/png": "[encoded data removed]",
      "text/plain": [
       "<Figure size 432x288 with 1 Axes>"
      ]
     },
     "metadata": {},
     "output_type": "display_data"
    }
   ],
   "source": [
    "\n",
    "#the first patient in c1\n",
    "x=np.arange(len(y))\n",
    "x.shape\n",
    "model = LinearRegression()\n",
    "model.fit(np.reshape(x,[len(x),1]), np.reshape(y,[len(y),1]))\n",
    "yy = model.predict(np.reshape(x,[len(x),1]))\n",
    "w = model.coef_[0][0] # parameters of model\n",
    "b = model.intercept_[0] #intercept of model\n",
    "\n",
    "plt.figure()\n",
    "plt.xlabel('X')\n",
    "plt.ylabel('Y')\n",
    "plt.grid(True) \n",
    "plt.plot(x,y,'b') \n",
    "plt.plot(x,yy,'g-') \n",
    "plt.show()"
   ]
  },
  {
   "cell_type": "code",
   "execution_count": 29,
   "metadata": {},
   "outputs": [
    {
     "name": "stdout",
     "output_type": "stream",
     "text": [
      "two means and size of first patient in C1: \n",
      " 92.3893442622951 80.69887640449437 122 178\n"
     ]
    }
   ],
   "source": [
    "g1=np.where(y>w*x+b,y,-1)\n",
    "g11=np.delete(g1,np.argwhere(g1==-1))\n",
    "g11_mean=np.mean(g11)\n",
    "\n",
    "g2=np.where(y<w*x+b,y,-1)\n",
    "g21=np.delete(g2,np.argwhere(g2==-1))\n",
    "g21_mean=np.mean(g21)\n",
    "\n",
    "print('two means and size of first patient in C1: \\n',g11_mean,g21_mean,len(g11),len(g21))"
   ]
  },
  {
   "cell_type": "code",
   "execution_count": null,
   "metadata": {},
   "outputs": [],
   "source": []
  },
  {
   "cell_type": "code",
   "execution_count": null,
   "metadata": {},
   "outputs": [],
   "source": []
  },
  {
   "cell_type": "code",
   "execution_count": null,
   "metadata": {},
   "outputs": [],
   "source": []
  }
 ],
 "metadata": {
  "kernelspec": {
   "display_name": "Python 3",
   "language": "python",
   "name": "python3"
  },
  "language_info": {
   "codemirror_mode": {
    "name": "ipython",
    "version": 3
   },
   "file_extension": ".py",
   "mimetype": "text/x-python",
   "name": "python",
   "nbconvert_exporter": "python",
   "pygments_lexer": "ipython3",
   "version": "3.5.2"
  }
 },
 "nbformat": 4,
 "nbformat_minor": 2
}

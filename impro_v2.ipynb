{
 "cells": [
  {
   "cell_type": "code",
   "execution_count": 1,
   "metadata": {},
   "outputs": [],
   "source": [
    "from IPython.core.interactiveshell import InteractiveShell\n",
    "InteractiveShell.ast_node_interactivity = \"all\""
   ]
  },
  {
   "cell_type": "code",
   "execution_count": 155,
   "metadata": {},
   "outputs": [],
   "source": [
    "import numpy as np\n",
    "import matplotlib.pyplot as plt\n",
    "%matplotlib inline\n",
    "from sklearn.linear_model import LinearRegression\n",
    "from sklearn.metrics import accuracy_score"
   ]
  },
  {
   "cell_type": "code",
   "execution_count": 2,
   "metadata": {},
   "outputs": [],
   "source": [
    "# Data loading...\n",
    "#C1 (records not containing acute hypotensive episodes)\n",
    "#C2 (AHE, but not in forecast window)\n",
    "#H1 (acute hypotensive episode in forecast window, treated with pressors)\n",
    "#H2 (AHE in forecast window, not treated with pressors)\n",
    "c1 = np.loadtxt('c1_matrix.txt') #14x600\n",
    "c2 = np.loadtxt('c2_matrix.txt') #14x600\n",
    "h1 = np.loadtxt('h1_matrix.txt') #14x600\n",
    "h2 = np.loadtxt('h2_matrix.txt') #15x600\n",
    "c1_afterT0=np.loadtxt('c1_matrix_afterT0.txt') #14x60\n",
    "c2_afterT0=np.loadtxt('c2_matrix_afterT0.txt') #14x60\n",
    "h1_afterT0=np.loadtxt('h1_matrix_afterT0.txt') #14x60\n",
    "h2_afterT0=np.loadtxt('h2_matrix_afterT0.txt') #15x60\n",
    "labels=np.loadtxt('labels.txt')"
   ]
  },
  {
   "cell_type": "markdown",
   "metadata": {},
   "source": [
    "# Feature Extraction-- way 1 Linear Regression"
   ]
  },
  {
   "cell_type": "code",
   "execution_count": 133,
   "metadata": {},
   "outputs": [
    {
     "name": "stdout",
     "output_type": "stream",
     "text": [
      "mean of ABPmean above the line\n",
      "mean below the line\n",
      "size+\n",
      "size-\n",
      "\n",
      "This is C1\n",
      "Patient 1 in C1: 97.18 85.80 282 318\n",
      "Patient 2 in C1: 90.99 85.00 307 292\n",
      "Patient 3 in C1: 112.81 90.68 290 266\n",
      "Patient 4 in C1: 111.21 104.33 355 242\n",
      "Patient 5 in C1: 105.50 94.76 274 318\n",
      "Patient 6 in C1: 101.90 98.96 267 331\n",
      "Patient 7 in C1: 109.74 90.02 313 287\n",
      "Patient 8 in C1: 109.63 102.79 248 315\n",
      "Patient 9 in C1: 92.36 77.30 321 279\n",
      "Patient 10 in C1: 101.29 81.69 310 289\n",
      "Patient 11 in C1: 84.00 75.87 299 301\n",
      "Patient 12 in C1: 103.56 94.93 281 319\n",
      "Patient 13 in C1: 82.05 75.45 242 357\n",
      "Patient 14 in C1: 82.92 75.27 259 341\n",
      "This is C2\n",
      "Patient 1 in C1: 78.56 70.49 296 304\n",
      "Patient 2 in C1: 92.29 84.19 307 292\n",
      "Patient 3 in C1: 87.49 77.11 255 337\n",
      "Patient 4 in C1: 75.39 62.84 270 323\n",
      "Patient 5 in C1: 97.46 81.67 331 268\n",
      "Patient 6 in C1: 89.66 76.51 314 285\n",
      "Patient 7 in C1: 90.78 74.59 321 279\n",
      "Patient 8 in C1: 119.54 95.32 194 158\n",
      "Patient 9 in C1: 71.75 66.34 251 349\n",
      "Patient 10 in C1: 80.31 67.58 310 288\n",
      "Patient 11 in C1: 79.54 69.30 306 289\n",
      "Patient 12 in C1: 71.56 63.08 268 332\n",
      "Patient 13 in C1: 82.79 72.40 265 335\n",
      "Patient 14 in C1: 79.15 70.38 264 334\n",
      "This is H1\n",
      "Patient 1 in C1: 100.17 85.10 262 165\n",
      "Patient 2 in C1: 119.83 102.14 162 156\n",
      "Patient 3 in C1: 96.45 66.21 222 368\n",
      "Patient 4 in C1: 68.91 63.28 277 323\n",
      "Patient 5 in C1: 97.21 67.95 322 276\n",
      "Patient 6 in C1: 92.53 84.20 306 292\n",
      "Patient 7 in C1: 87.72 75.27 291 307\n",
      "Patient 8 in C1: 70.49 63.73 299 296\n",
      "Patient 9 in C1: 72.96 67.51 270 329\n",
      "Patient 10 in C1: 72.51 60.92 246 354\n",
      "Patient 11 in C1: 92.43 69.96 275 324\n",
      "Patient 12 in C1: 117.86 107.02 269 290\n",
      "Patient 13 in C1: 90.07 86.16 305 291\n",
      "Patient 14 in C1: 93.43 75.96 279 305\n",
      "This is H2\n",
      "Patient 1 in C1: 77.98 70.43 248 349\n",
      "Patient 2 in C1: 72.04 63.90 292 307\n",
      "Patient 3 in C1: 68.07 62.11 298 300\n",
      "Patient 4 in C1: 73.40 61.98 228 368\n",
      "Patient 5 in C1: 70.82 63.47 236 364\n",
      "Patient 6 in C1: 80.47 71.39 302 297\n",
      "Patient 7 in C1: 87.61 70.00 286 310\n",
      "Patient 8 in C1: 74.67 64.91 282 313\n",
      "Patient 9 in C1: 125.79 115.42 194 207\n",
      "Patient 10 in C1: 122.43 109.64 206 263\n",
      "Patient 11 in C1: 76.86 62.15 316 282\n",
      "Patient 12 in C1: 73.16 67.34 271 329\n",
      "Patient 13 in C1: 77.22 65.37 249 351\n",
      "Patient 14 in C1: 84.31 73.74 217 381\n",
      "Patient 15 in C1: 96.82 74.26 301 292\n"
     ]
    }
   ],
   "source": [
    "#used to store the features\n",
    "list_feature=[]\n",
    "#store the predictions after T0\n",
    "pred_afterT0=[]\n",
    "\n",
    "Dict={'C1':c1,'C2':c2,'H1':h1,'H2':h2}\n",
    "print('mean of ABPmean above the line\\nmean below the line\\nsize+\\nsize-\\n')\n",
    "for k,v in Dict.items():\n",
    "    print('This is',k)\n",
    "    for i in range(len(v)):\n",
    "        y=v[i]\n",
    "        cond=np.where(((y>130)|(y<10)),-1,y)\n",
    "        y=np.delete(cond,np.argwhere(cond==-1))\n",
    "\n",
    "        x=np.arange(len(y))\n",
    "        model = LinearRegression()\n",
    "\n",
    "        model.fit(np.reshape(x,[len(x),1]), np.reshape(y,[len(y),1]))\n",
    "        x_test=x_test=np.arange(len(x),len(x)+60)\n",
    "        y_pred = model.predict(np.reshape(x_test,[len(x_test),1]))\n",
    "\n",
    "        w = model.coef_[0][0] # parameters of model\n",
    "        b = model.intercept_[0] #intercept of model\n",
    "\n",
    "        g1=np.where(y>w*x+b,y,-1).flatten()\n",
    "        g11=np.delete(g1,np.argwhere(g1==-1))\n",
    "        g11_mean=np.mean(g11)\n",
    "\n",
    "        g2=np.where(y<w*x+b,y,-1).flatten()\n",
    "        g21=np.delete(g2,np.argwhere(g2==-1))\n",
    "        g21_mean=np.mean(g21)\n",
    "#         list_feature.append([g11_mean,g21_mean,len(g11),len(g21)])\n",
    "        list_feature.append([g11_mean,g21_mean,len(g11)])\n",
    "        pred_afterT0.append(y_pred.flatten())\n",
    "        print('Patient',i+1, 'in C1:','%0.2f'%g11_mean,'%0.2f'%g21_mean,len(g11),len(g21))\n",
    "        \n",
    "#convert into the type of numpy.arry\n",
    "list_feature=np.array(list_feature)\n",
    "pred_afterT0=np.array(pred_afterT0)"
   ]
  },
  {
   "cell_type": "markdown",
   "metadata": {},
   "source": [
    "# Classification --Random Forest"
   ]
  },
  {
   "cell_type": "code",
   "execution_count": 71,
   "metadata": {},
   "outputs": [],
   "source": [
    "import pandas as pd  \n",
    "import numpy as np  \n",
    "from sklearn.ensemble import RandomForestClassifier  \n",
    "from sklearn.model_selection import GridSearchCV\n",
    "from sklearn import cross_validation, metrics  \n",
    "import matplotlib.pylab as plt  \n",
    "%matplotlib inline  "
   ]
  },
  {
   "cell_type": "code",
   "execution_count": 41,
   "metadata": {},
   "outputs": [
    {
     "name": "stdout",
     "output_type": "stream",
     "text": [
      "[ 2  0  3 55 14 30 17 23 16 12]\n",
      "(47, 4) (10, 4)\n",
      "(47,) (10,)\n"
     ]
    }
   ],
   "source": [
    "list_feature.shape\n",
    "testsize=10\n",
    "# testIdx=np.random.choice(len(list_feature), testsize,replace=False)\n",
    "idx=np.random.permutation(len(list_feature))\n",
    "trainIdx=idx[testsize:]\n",
    "testIdx=idx[:testsize]\n",
    "\n",
    "print(testIdx)\n",
    "x_train=list_feature[trainIdx]\n",
    "x_test=list_feature[testIdx]\n",
    "print(trainXset.shape,testXset.shape)\n",
    "y_train=labels[trainIdx]\n",
    "y_test=labels[testIdx]\n",
    "print(trainYset.shape,testYset.shape)"
   ]
  },
  {
   "cell_type": "code",
   "execution_count": 42,
   "metadata": {},
   "outputs": [
    {
     "name": "stdout",
     "output_type": "stream",
     "text": [
      "[0. 0. 1. 0. 0. 0. 0. 0. 1. 1.]\n",
      "[0. 0. 0. 1. 0. 1. 0. 0. 0. 0.]\n",
      "the accuracy is: 0.5\n"
     ]
    }
   ],
   "source": [
    "from sklearn.ensemble import RandomForestClassifier \n",
    "from sklearn.metrics import accuracy_score\n",
    "rf = RandomForestClassifier()  \n",
    "rf.fit(x_train,y_train)  \n",
    "RandomForestClassifier(bootstrap=True, class_weight=None, criterion='gini',  \n",
    "            max_depth=None, max_features='auto', max_leaf_nodes=None,  \n",
    "            min_samples_leaf=1, min_samples_split=2,  \n",
    "            min_weight_fraction_leaf=0.0, n_estimators=10, n_jobs=1,  \n",
    "            oob_score=False, random_state=None, verbose=0,  \n",
    "            warm_start=False)  \n",
    "y_pred=rf.predict(testXset)\n",
    "print (y_pred)\n",
    "print(y_test)\n",
    "print('the accuracy is:',accuracy_score(y_test,y_pred))"
   ]
  },
  {
   "cell_type": "code",
   "execution_count": 102,
   "metadata": {},
   "outputs": [
    {
     "name": "stdout",
     "output_type": "stream",
     "text": [
      "0.6491228070175439\n"
     ]
    }
   ],
   "source": [
    "# fit without any custom parameters\n",
    "rf0 = RandomForestClassifier(oob_score=True, random_state=10)  \n",
    "rf0.fit(list_feature,labels)  \n",
    "#use out-of-bag samples to estimate the generalization accuracy.\n",
    "print (rf0.oob_score_)\n",
    "y_predprob = rf0.predict_proba(list_feature)[:,1]\n",
    "# print(y_predprob)\n",
    "#use auc score to evaluate the classifier\n",
    "# print (\"AUC Score (Train): %f\" % metrics.roc_auc_score(labels,y_predprob) )"
   ]
  },
  {
   "cell_type": "code",
   "execution_count": 135,
   "metadata": {},
   "outputs": [
    {
     "name": "stdout",
     "output_type": "stream",
     "text": [
      "{'n_estimators': 57}\n",
      "Mean cross-validated score of the best_estimator : 0.7461988304093566\n"
     ]
    }
   ],
   "source": [
    "#use GridSearchCV to choose the optimal n_estimators(The number of trees in the forest)\n",
    "param_test1= {'n_estimators':np.arange(3,72,3)}  \n",
    "gsearch1= GridSearchCV(estimator = RandomForestClassifier(max_depth=8,max_features='sqrt',random_state=10),  \n",
    "                       param_grid =param_test1, scoring='roc_auc',cv=5)  \n",
    "gsearch1.fit(list_feature,labels)  \n",
    "# print(gsearch1.grid_scores_)\n",
    "# print(gsearch1.cv_results_.values())\n",
    "print(gsearch1.best_params_)\n",
    "print('Mean cross-validated score of the best_estimator :',gsearch1.best_score_)"
   ]
  },
  {
   "cell_type": "code",
   "execution_count": 104,
   "metadata": {},
   "outputs": [
    {
     "name": "stdout",
     "output_type": "stream",
     "text": [
      "{'max_depth': 8, 'min_samples_split': 2}\n",
      "0.7405555555555556\n"
     ]
    }
   ],
   "source": [
    "param_test2= {'max_depth':np.arange(2,16,2), 'min_samples_split':np.arange(2,10,2)}  \n",
    "gsearch2= GridSearchCV(estimator = RandomForestClassifier(n_estimators= 57,oob_score=True,random_state=10),\n",
    "                       param_grid = param_test2,scoring='roc_auc',iid=False, cv=5)  \n",
    "gsearch2.fit(list_feature,labels)  \n",
    "# print(gsearch2.cv_results_)\n",
    "print(gsearch2.best_params_)\n",
    "print(gsearch2.best_score_ )"
   ]
  },
  {
   "cell_type": "code",
   "execution_count": 118,
   "metadata": {},
   "outputs": [
    {
     "name": "stdout",
     "output_type": "stream",
     "text": [
      "0.6491228070175439\n"
     ]
    }
   ],
   "source": [
    "# fit without any custom parameters\n",
    "rf1= RandomForestClassifier(n_estimators=57, max_depth=8,criterion='gini',oob_score=True,random_state=10)    \n",
    "rf1.fit(list_feature,labels)  \n",
    "#use out-of-bag samples to estimate the generalization accuracy.\n",
    "print (rf1.oob_score_)\n",
    "y_predprob = rf1.predict_proba(list_feature)[:,1]\n",
    "# print(y_predprob)\n",
    "#use auc score to evaluate the classifier\n",
    "# print (\"AUC Score (Train): %f\" % metrics.roc_auc_score(labels,y_predprob) )"
   ]
  },
  {
   "cell_type": "markdown",
   "metadata": {},
   "source": [
    "# Linear Regression-->predict"
   ]
  },
  {
   "cell_type": "code",
   "execution_count": 154,
   "metadata": {},
   "outputs": [
    {
     "name": "stdout",
     "output_type": "stream",
     "text": [
      "(600,)\n"
     ]
    },
    {
     "data": {
      "image/png": "[encoded data removed]",
      "text/plain": [
       "<matplotlib.figure.Figure at 0x11154b4a8>"
      ]
     },
     "metadata": {},
     "output_type": "display_data"
    }
   ],
   "source": [
    "#Example\n",
    "#the first patient in c1\n",
    "y=c1[0]\n",
    "#select the value between 10 and 130\n",
    "cond=np.where(((y>130)|(y<10)),-1,y).flatten()\n",
    "y=np.delete(cond,np.argwhere(cond==-1))\n",
    "print(y.shape)\n",
    "x=np.arange(len(y))\n",
    "\n",
    "model = LinearRegression()\n",
    "model.fit(np.reshape(x,[len(x),1]), np.reshape(y,[len(y),1]))\n",
    "# x_test=np.arange(len(x),len(x)+60)\n",
    "x_test=np.arange(len(x)+60)\n",
    "y_pred = model.predict(np.reshape(x_test,[len(x_test),1]))\n",
    "w = model.coef_[0][0] # parameters of model\n",
    "b = model.intercept_[0] #intercept of model\n",
    "\n",
    "plt.figure()\n",
    "plt.xlabel('X')\n",
    "plt.ylabel('Y')\n",
    "plt.grid(True) \n",
    "plt.plot(x,y,'b') \n",
    "plt.plot(x_test,y_pred,'g-') \n",
    "plt.show()"
   ]
  },
  {
   "cell_type": "code",
   "execution_count": 149,
   "metadata": {},
   "outputs": [
    {
     "data": {
      "text/plain": [
       "(57, 60)"
      ]
     },
     "execution_count": 149,
     "metadata": {},
     "output_type": "execute_result"
    }
   ],
   "source": [
    "pred_afterT0.shape"
   ]
  },
  {
   "cell_type": "code",
   "execution_count": 170,
   "metadata": {},
   "outputs": [
    {
     "name": "stdout",
     "output_type": "stream",
     "text": [
      "the accuracy is: 0.6491228070175439\n",
      "[ 0  0  0  0  0  0  0  0  0  0 60  0 60 60 60  0  0 60  0  0 60  0 60 60\n",
      " 60 60 60 60  0  0 60 60 60  0 60 60 60 60 60  0  0 60 36 60 60 60 60 60\n",
      " 60 60  0  0 60 60 60 60  0]\n",
      "[0 0 0 0 0 0 0 0 0 0 1 0 1 1 1 0 0 1 0 0 1 0 1 1 1 1 1 1 0 0 1 1 1 0 1 1 1\n",
      " 1 1 0 0 1 1 1 1 1 1 1 1 1 0 0 1 1 1 1 0]\n",
      "[0. 0. 0. 0. 0. 0. 0. 0. 0. 0. 0. 0. 0. 0. 0. 0. 0. 0. 0. 0. 0. 0. 0. 0.\n",
      " 0. 0. 0. 0. 1. 1. 1. 1. 1. 1. 1. 1. 1. 1. 1. 1. 1. 1. 1. 1. 1. 1. 1. 1.\n",
      " 1. 1. 1. 1. 1. 1. 1. 1. 1.]\n"
     ]
    }
   ],
   "source": [
    "s=np.where(pred_afterT0>87,0,1)\n",
    "counts=s.sum(axis=1)\n",
    "#any period of 30 minutes or more during which at least 90% of \n",
    "#the MAP measurements were at or below 60 mmHg.\n",
    "results=np.where(counts>27,1,0)\n",
    "print('the accuracy is:',accuracy_score(labels,results))\n",
    "print(counts)\n",
    "print(results)\n",
    "print(labels)"
   ]
  },
  {
   "cell_type": "markdown",
   "metadata": {},
   "source": [
    "# Kernel Ridge Regression"
   ]
  },
  {
   "cell_type": "code",
   "execution_count": 111,
   "metadata": {
    "scrolled": false
   },
   "outputs": [
    {
     "name": "stdout",
     "output_type": "stream",
     "text": [
      "(600,)\n",
      "(66000, 1)\n"
     ]
    },
    {
     "data": {
      "image/png": "[encoded data removed]",
      "text/plain": [
       "<matplotlib.figure.Figure at 0x10a392a20>"
      ]
     },
     "metadata": {},
     "output_type": "display_data"
    }
   ],
   "source": [
    "from sklearn.model_selection import GridSearchCV\n",
    "from sklearn.kernel_ridge import KernelRidge\n",
    "\n",
    "#Example\n",
    "#the first patient in c1\n",
    "y=c1[0]\n",
    "#select the value between 10 and 130\n",
    "cond=np.where(((y>130)|(y<10)),-1,y).flatten()\n",
    "y=np.delete(cond,np.argwhere(cond==-1))\n",
    "print(y.shape)\n",
    "x=np.arange(len(y)).reshape(len(y),1)\n",
    "\n",
    "x_test=np.arange(0,len(x)+60,0.01).reshape((len(x)+60)*100,1)\n",
    "print(x_test.shape)\n",
    "train_size=600\n",
    "krr = GridSearchCV(KernelRidge(kernel='rbf', gamma=0.1), cv=5,\n",
    "                  param_grid={\"alpha\": [1e0, 0.1, 1e-2, 1e-3],\n",
    "                              \"gamma\": np.logspace(-2, 2, 5)})\n",
    "krr.fit(x[:train_size], y[:train_size])\n",
    "y_pred=krr.predict(x_test)\n",
    "plt.plot(x,y)\n",
    "plt.plot(x_test,y_pred)\n",
    "plt.show()\n"
   ]
  },
  {
   "cell_type": "code",
   "execution_count": null,
   "metadata": {},
   "outputs": [],
   "source": []
  }
 ],
 "metadata": {
  "kernelspec": {
   "display_name": "Python 3",
   "language": "python",
   "name": "python3"
  },
  "language_info": {
   "codemirror_mode": {
    "name": "ipython",
    "version": 3
   },
   "file_extension": ".py",
   "mimetype": "text/x-python",
   "name": "python",
   "nbconvert_exporter": "python",
   "pygments_lexer": "ipython3",
   "version": "3.6.4"
  }
 },
 "nbformat": 4,
 "nbformat_minor": 2
}
